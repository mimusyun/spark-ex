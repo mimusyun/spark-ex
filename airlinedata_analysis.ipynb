{
 "cells": [
  {
   "cell_type": "markdown",
   "metadata": {
    "collapsed": true
   },
   "source": [
    "# - Experiment with AIRLINE opendata \n",
    "\n",
    "Data source : http://transtats.bts.gov/DL_SelectFields.asp?Table_ID=236  \n",
    "TASK : Finding the airports that has the most delayed arrival  \n"
   ]
  },
  {
   "cell_type": "markdown",
   "metadata": {},
   "source": [
    "### Import data from S3"
   ]
  },
  {
   "cell_type": "code",
   "execution_count": 1,
   "metadata": {
    "collapsed": false
   },
   "outputs": [],
   "source": [
    "import pyspark as ps\n",
    "import os\n",
    "sc = ps.SparkContext()"
   ]
  },
  {
   "cell_type": "code",
   "execution_count": 2,
   "metadata": {
    "collapsed": true
   },
   "outputs": [],
   "source": [
    "link = 's3n://mortar-example-data/airline-data' # Detail : http://transtats.bts.gov/DL_SelectFields.asp?Table_ID=236"
   ]
  },
  {
   "cell_type": "code",
   "execution_count": 3,
   "metadata": {
    "collapsed": true
   },
   "outputs": [],
   "source": [
    "airline = sc.textFile(link)"
   ]
  },
  {
   "cell_type": "code",
   "execution_count": 4,
   "metadata": {
    "collapsed": false
   },
   "outputs": [],
   "source": [
    "# Clean data - remove back slash and double quatation\n",
    "airline_no_quote = airline.map(lambda line: line.replace('\\'','').replace('\\\"', '').split(','))"
   ]
  },
  {
   "cell_type": "code",
   "execution_count": 5,
   "metadata": {
    "collapsed": false
   },
   "outputs": [
    {
     "data": {
      "text/plain": [
       "PythonRDD[2] at RDD at PythonRDD.scala:43"
      ]
     },
     "execution_count": 5,
     "metadata": {},
     "output_type": "execute_result"
    }
   ],
   "source": [
    "airline_no_quote.cache() # populate data on in-memory cache"
   ]
  },
  {
   "cell_type": "code",
   "execution_count": 6,
   "metadata": {
    "collapsed": false
   },
   "outputs": [
    {
     "name": "stdout",
     "output_type": "stream",
     "text": [
      "TIME Elapsed:  -100.724103928\n"
     ]
    }
   ],
   "source": [
    "# Measure the time to run the cell\n",
    "# Alternativily use %time \n",
    "import time\n",
    "\n",
    "start = time.time()\n",
    "\n",
    "results = airline_no_quote.take(2)\n",
    "\n",
    "end = time.time()\n",
    "\n",
    "print \"TIME Elapsed: \", start - end"
   ]
  },
  {
   "cell_type": "code",
   "execution_count": 8,
   "metadata": {
    "collapsed": false
   },
   "outputs": [
    {
     "name": "stdout",
     "output_type": "stream",
     "text": [
      "TIME Elapsed:  -0.0282990932465\n"
     ]
    }
   ],
   "source": [
    "import time\n",
    "\n",
    "start = time.time()\n",
    "\n",
    "results = airline_no_quote.take(2)\n",
    "\n",
    "end = time.time()\n",
    "\n",
    "print \"TIME Elapsed: \", start - end"
   ]
  },
  {
   "cell_type": "code",
   "execution_count": 9,
   "metadata": {
    "collapsed": false
   },
   "outputs": [
    {
     "name": "stdout",
     "output_type": "stream",
     "text": [
      "[u'YEAR', u'MONTH', u'UNIQUE_CARRIER', u'ORIGIN_AIRPORT_ID', u'DEST_AIRPORT_ID', u'DEP_DELAY', u'DEP_DELAY_NEW', u'ARR_DELAY', u'ARR_DELAY_NEW', u'CANCELLED', u'']\n",
      "[u'2012', u'4', u'AA', u'12478', u'12892', u'-4.00', u'0.00', u'-21.00', u'0.00', u'0.00', u'']\n"
     ]
    }
   ],
   "source": [
    "# Check data : first two lines - header & data row\n",
    "for line in results:\n",
    "    print line"
   ]
  },
  {
   "cell_type": "code",
   "execution_count": 10,
   "metadata": {
    "collapsed": false
   },
   "outputs": [
    {
     "name": "stdout",
     "output_type": "stream",
     "text": [
      "[u'YEAR', u'MONTH', u'UNIQUE_CARRIER', u'ORIGIN_AIRPORT_ID', u'DEST_AIRPORT_ID', u'DEP_DELAY', u'DEP_DELAY_NEW', u'ARR_DELAY', u'ARR_DELAY_NEW', u'CANCELLED']\n"
     ]
    }
   ],
   "source": [
    "# Get header\n",
    "header_line = airline_no_quote.first()\n",
    "header_list = header_line[0:-1] # Remove last empty item\n",
    "print header_list"
   ]
  },
  {
   "cell_type": "code",
   "execution_count": 11,
   "metadata": {
    "collapsed": true
   },
   "outputs": [],
   "source": [
    "# Get data without header\n",
    "airline_no_header = airline_no_quote.filter(lambda row: row != header_line)"
   ]
  },
  {
   "cell_type": "code",
   "execution_count": 12,
   "metadata": {
    "collapsed": false
   },
   "outputs": [
    {
     "data": {
      "text/plain": [
       "[[u'2012',\n",
       "  u'4',\n",
       "  u'AA',\n",
       "  u'12478',\n",
       "  u'12892',\n",
       "  u'-4.00',\n",
       "  u'0.00',\n",
       "  u'-21.00',\n",
       "  u'0.00',\n",
       "  u'0.00',\n",
       "  u''],\n",
       " [u'2012',\n",
       "  u'4',\n",
       "  u'AA',\n",
       "  u'12478',\n",
       "  u'12892',\n",
       "  u'-7.00',\n",
       "  u'0.00',\n",
       "  u'-65.00',\n",
       "  u'0.00',\n",
       "  u'0.00',\n",
       "  u''],\n",
       " [u'2012',\n",
       "  u'4',\n",
       "  u'AA',\n",
       "  u'12478',\n",
       "  u'12892',\n",
       "  u'-6.00',\n",
       "  u'0.00',\n",
       "  u'-63.00',\n",
       "  u'0.00',\n",
       "  u'0.00',\n",
       "  u'']]"
      ]
     },
     "execution_count": 12,
     "metadata": {},
     "output_type": "execute_result"
    }
   ],
   "source": [
    "# Check data format\n",
    "airline_no_header.take(3)"
   ]
  },
  {
   "cell_type": "code",
   "execution_count": 13,
   "metadata": {
    "collapsed": true
   },
   "outputs": [],
   "source": [
    "# bind header and data to create dict\n",
    "def row_creation(row):\n",
    "    row_list = row[0:-1]\n",
    "    d = dict(zip(header_list, row_list)) # bind with header\n",
    "    return d"
   ]
  },
  {
   "cell_type": "code",
   "execution_count": 14,
   "metadata": {
    "collapsed": false
   },
   "outputs": [],
   "source": [
    "# Create new format\n",
    "airline_rows = airline_no_header.map(row_creation)"
   ]
  },
  {
   "cell_type": "code",
   "execution_count": 15,
   "metadata": {
    "collapsed": false
   },
   "outputs": [
    {
     "data": {
      "text/plain": [
       "[{u'ARR_DELAY': u'-21.00',\n",
       "  u'ARR_DELAY_NEW': u'0.00',\n",
       "  u'CANCELLED': u'0.00',\n",
       "  u'DEP_DELAY': u'-4.00',\n",
       "  u'DEP_DELAY_NEW': u'0.00',\n",
       "  u'DEST_AIRPORT_ID': u'12892',\n",
       "  u'MONTH': u'4',\n",
       "  u'ORIGIN_AIRPORT_ID': u'12478',\n",
       "  u'UNIQUE_CARRIER': u'AA',\n",
       "  u'YEAR': u'2012'},\n",
       " {u'ARR_DELAY': u'-65.00',\n",
       "  u'ARR_DELAY_NEW': u'0.00',\n",
       "  u'CANCELLED': u'0.00',\n",
       "  u'DEP_DELAY': u'-7.00',\n",
       "  u'DEP_DELAY_NEW': u'0.00',\n",
       "  u'DEST_AIRPORT_ID': u'12892',\n",
       "  u'MONTH': u'4',\n",
       "  u'ORIGIN_AIRPORT_ID': u'12478',\n",
       "  u'UNIQUE_CARRIER': u'AA',\n",
       "  u'YEAR': u'2012'}]"
      ]
     },
     "execution_count": 15,
     "metadata": {},
     "output_type": "execute_result"
    }
   ],
   "source": [
    "# Check data format\n",
    "airline_rows.take(2)"
   ]
  },
  {
   "cell_type": "markdown",
   "metadata": {},
   "source": [
    "## Analyze delays"
   ]
  },
  {
   "cell_type": "code",
   "execution_count": 16,
   "metadata": {
    "collapsed": true
   },
   "outputs": [],
   "source": [
    "# Convert str to float\n",
    "def convert_to_float(s):\n",
    "    try:\n",
    "        s = float(s)\n",
    "    except ValueError:\n",
    "        s = 0\n",
    "    return s"
   ]
  },
  {
   "cell_type": "code",
   "execution_count": 17,
   "metadata": {
    "collapsed": false
   },
   "outputs": [],
   "source": [
    "# Get destination/origin rdd (airport id, mean delay)\n",
    "destination_rdd = airline_rows.map(lambda row: (row['DEST_AIRPORT_ID'], convert_to_float(row['ARR_DELAY'])))\n",
    "origin_rdd = airline_rows.map(lambda row: (row['ORIGIN_AIRPORT_ID'], convert_to_float(row['DEP_DELAY'])))"
   ]
  },
  {
   "cell_type": "code",
   "execution_count": 18,
   "metadata": {
    "collapsed": false,
    "scrolled": true
   },
   "outputs": [
    {
     "name": "stdout",
     "output_type": "stream",
     "text": [
      "[(u'12892', -21.0), (u'12892', -65.0)]\n",
      "[(u'12478', -4.0), (u'12478', -7.0)]\n"
     ]
    }
   ],
   "source": [
    "# Check data (airport id, delay)\n",
    "print destination_rdd.take(2)\n",
    "print origin_rdd.take(2)"
   ]
  },
  {
   "cell_type": "markdown",
   "metadata": {},
   "source": [
    "### Mean delay for take off and landing"
   ]
  },
  {
   "cell_type": "code",
   "execution_count": 19,
   "metadata": {
    "collapsed": false
   },
   "outputs": [],
   "source": [
    "# Create new format (airport id, mean delay)\n",
    "import numpy as np\n",
    "mean_delays_destination = destination_rdd.groupByKey().mapValues(lambda delays: np.mean(delays.data))\n",
    "mean_delays_origin = origin_rdd.groupByKey().mapValues(lambda delays: np.mean(delays.data))"
   ]
  },
  {
   "cell_type": "code",
   "execution_count": 21,
   "metadata": {
    "collapsed": false
   },
   "outputs": [
    {
     "name": "stdout",
     "output_type": "stream",
     "text": [
      "[(u'10141', -4.8770491803278686)]\n",
      "[(u'10141', -1.8319672131147542)]\n"
     ]
    }
   ],
   "source": [
    "# Check data (airport id, mean delay)\n",
    "print mean_delays_destination.take(1)\n",
    "print mean_delays_origin.take(1)"
   ]
  },
  {
   "cell_type": "markdown",
   "metadata": {
    "collapsed": true
   },
   "source": [
    "### Get an airport which has the largestmean delay for take-off and landing"
   ]
  },
  {
   "cell_type": "code",
   "execution_count": 22,
   "metadata": {
    "collapsed": false
   },
   "outputs": [
    {
     "data": {
      "text/plain": [
       "[(u'12129', -6.7547169811320753),\n",
       " (u'15991', -6.0978441127694856),\n",
       " (u'12888', -5.9056603773584904),\n",
       " (u'14113', -5.3462002412545235),\n",
       " (u'10779', -5.1457627118644069)]"
      ]
     },
     "execution_count": 22,
     "metadata": {},
     "output_type": "execute_result"
    }
   ],
   "source": [
    "# Take-off earlier !?\n",
    "mean_delays_origin.sortBy(lambda t: t[1], ascending=True).take(5)"
   ]
  },
  {
   "cell_type": "code",
   "execution_count": 23,
   "metadata": {
    "collapsed": false
   },
   "outputs": [
    {
     "data": {
      "text/plain": [
       "[(u'13541', 33.845454545454544),\n",
       " (u'10930', 32.533490011750878),\n",
       " (u'13964', 30.258196721311474),\n",
       " (u'10157', 24.69469773725093),\n",
       " (u'15295', 20.405063291139239)]"
      ]
     },
     "execution_count": 23,
     "metadata": {},
     "output_type": "execute_result"
    }
   ],
   "source": [
    "# Take-off delayed...more than 30 mins in worst cases\n",
    "mean_delays_origin.sortBy(lambda t: t[1], ascending=False).take(5)"
   ]
  },
  {
   "cell_type": "code",
   "execution_count": 24,
   "metadata": {
    "collapsed": false
   },
   "outputs": [
    {
     "data": {
      "text/plain": [
       "[(u'12343', -16.925233644859812),\n",
       " (u'12888', -8.9444444444444446),\n",
       " (u'11415', -7.5650793650793648),\n",
       " (u'10466', -7.4375),\n",
       " (u'12335', -5.6448598130841123)]"
      ]
     },
     "execution_count": 24,
     "metadata": {},
     "output_type": "execute_result"
    }
   ],
   "source": [
    "# Arrival earlier... good.\n",
    "mean_delays_destination.sortBy(lambda t: t[1], ascending=True).take(5)"
   ]
  },
  {
   "cell_type": "code",
   "execution_count": 25,
   "metadata": {
    "collapsed": false
   },
   "outputs": [
    {
     "data": {
      "text/plain": [
       "[(u'10930', 24.724705882352943),\n",
       " (u'13424', 20.856232939035486),\n",
       " (u'14487', 20.795507358636716),\n",
       " (u'13459', 20.609195402298852),\n",
       " (u'10157', 18.995945945945945)]"
      ]
     },
     "execution_count": 25,
     "metadata": {},
     "output_type": "execute_result"
    }
   ],
   "source": [
    "# Arrival delayed...umm.\n",
    "mean_delays_destination.sortBy(lambda t: t[1], ascending=False).take(5)"
   ]
  },
  {
   "cell_type": "code",
   "execution_count": 26,
   "metadata": {
    "collapsed": true
   },
   "outputs": [],
   "source": [
    "# Stop spark context\n",
    "sc.stop()"
   ]
  },
  {
   "cell_type": "markdown",
   "metadata": {
    "collapsed": true
   },
   "source": [
    "### *Result\n",
    "Airport ID: 12541 has the largest delay for take-off  \n",
    "Airport ID: 10903 has the largest delay for arrival"
   ]
  }
 ],
 "metadata": {
  "anaconda-cloud": {},
  "kernelspec": {
   "display_name": "Python [conda root]",
   "language": "python",
   "name": "conda-root-py"
  },
  "language_info": {
   "codemirror_mode": {
    "name": "ipython",
    "version": 2
   },
   "file_extension": ".py",
   "mimetype": "text/x-python",
   "name": "python",
   "nbconvert_exporter": "python",
   "pygments_lexer": "ipython2",
   "version": "2.7.12"
  }
 },
 "nbformat": 4,
 "nbformat_minor": 1
}
